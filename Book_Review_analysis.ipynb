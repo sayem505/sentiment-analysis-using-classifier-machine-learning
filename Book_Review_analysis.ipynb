{
  "cells": [
    {
      "cell_type": "markdown",
      "metadata": {
        "id": "P8IWHgJZZ6Py"
      },
      "source": [
        "### Importing the libraries and files"
      ]
    },
    {
      "cell_type": "code",
      "execution_count": 3,
      "metadata": {
        "collapsed": true,
        "id": "SzLfsatpZ6P1",
        "colab": {
          "base_uri": "https://localhost:8080/"
        },
        "outputId": "a3079596-a19c-43c0-e735-254d327854ca"
      },
      "outputs": [
        {
          "output_type": "stream",
          "name": "stderr",
          "text": [
            "[nltk_data] Downloading package stopwords to /root/nltk_data...\n",
            "[nltk_data]   Package stopwords is already up-to-date!\n",
            "[nltk_data] Downloading package wordnet to /root/nltk_data...\n",
            "[nltk_data]   Package wordnet is already up-to-date!\n"
          ]
        }
      ],
      "source": [
        "#Data Wrangling\n",
        "import pandas as pd\n",
        "import numpy as np\n",
        "import matplotlib.pyplot as plt\n",
        "import seaborn as sns\n",
        "sns.set_style('white')\n",
        "import nltk\n",
        "nltk.download('stopwords')\n",
        "nltk.download('wordnet')\n",
        "#Text Preprocessing\n",
        "import string\n",
        "from nltk.corpus import stopwords\n",
        "from nltk.stem import WordNetLemmatizer\n",
        "from sklearn.feature_extraction.text import CountVectorizer\n",
        "from sklearn.feature_extraction.text import TfidfVectorizer\n",
        "\n",
        "#model training and tuning\n",
        "from sklearn.naive_bayes import MultinomialNB\n",
        "from sklearn.linear_model import LogisticRegression\n",
        "from sklearn.ensemble import RandomForestClassifier\n",
        "from sklearn.svm import LinearSVC\n",
        "from sklearn.model_selection import train_test_split, cross_val_score,GridSearchCV, RandomizedSearchCV\n",
        "from sklearn.metrics import confusion_matrix, classification_report, roc_curve, roc_auc_score\n",
        "\n",
        "#ignore the warnings from sklearn\n",
        "import warnings\n",
        "warnings.filterwarnings('ignore')"
      ]
    },
    {
      "cell_type": "code",
      "execution_count": 4,
      "metadata": {
        "collapsed": true,
        "id": "j5X_gM4VZ6P1"
      },
      "outputs": [],
      "source": [
        "#importing the data\n",
        "df = pd.read_csv('../content/kindle_reviews.csv')"
      ]
    },
    {
      "cell_type": "code",
      "execution_count": 5,
      "metadata": {
        "colab": {
          "base_uri": "https://localhost:8080/"
        },
        "id": "fLvj0be9Z6P2",
        "outputId": "ac5f18d9-3ee4-4764-d60c-b0012c7b2225"
      },
      "outputs": [
        {
          "output_type": "stream",
          "name": "stdout",
          "text": [
            "<class 'pandas.core.frame.DataFrame'>\n",
            "RangeIndex: 30114 entries, 0 to 30113\n",
            "Data columns (total 10 columns):\n",
            " #   Column          Non-Null Count  Dtype \n",
            "---  ------          --------------  ----- \n",
            " 0   Unnamed: 0      30114 non-null  int64 \n",
            " 1   asin            30114 non-null  object\n",
            " 2   helpful         30114 non-null  object\n",
            " 3   overall         30114 non-null  int64 \n",
            " 4   reviewText      30114 non-null  object\n",
            " 5   reviewTime      30114 non-null  object\n",
            " 6   reviewerID      30114 non-null  object\n",
            " 7   reviewerName    30053 non-null  object\n",
            " 8   summary         30109 non-null  object\n",
            " 9   unixReviewTime  30114 non-null  int64 \n",
            "dtypes: int64(3), object(7)\n",
            "memory usage: 2.3+ MB\n"
          ]
        }
      ],
      "source": [
        "#Looking at the general information about the dataset. It seems there are some missing reivewText.\n",
        "df.info()"
      ]
    },
    {
      "cell_type": "code",
      "execution_count": 6,
      "metadata": {
        "colab": {
          "base_uri": "https://localhost:8080/"
        },
        "id": "URBJtCxqZ6P2",
        "outputId": "99289cd4-4e91-4f0b-9c93-db292a8510b9"
      },
      "outputs": [
        {
          "output_type": "execute_result",
          "data": {
            "text/plain": [
              "Unnamed: 0         0\n",
              "asin               0\n",
              "helpful            0\n",
              "overall            0\n",
              "reviewText         0\n",
              "reviewTime         0\n",
              "reviewerID         0\n",
              "reviewerName      61\n",
              "summary            5\n",
              "unixReviewTime     0\n",
              "dtype: int64"
            ]
          },
          "metadata": {},
          "execution_count": 6
        }
      ],
      "source": [
        "# 22 missing reviews and needs to be dropped\n",
        "df.isnull().sum()\n"
      ]
    },
    {
      "cell_type": "code",
      "execution_count": 7,
      "metadata": {
        "colab": {
          "base_uri": "https://localhost:8080/",
          "height": 362
        },
        "id": "k_UQIJw_Z6P2",
        "outputId": "683b83d2-5e50-4b25-9df6-be002e9643b8"
      },
      "outputs": [
        {
          "output_type": "execute_result",
          "data": {
            "text/plain": [
              "         asin helpful  overall  \\\n",
              "0  B000F83SZQ  [0, 0]        5   \n",
              "1  B000F83SZQ  [2, 2]        4   \n",
              "2  B000F83SZQ  [2, 2]        4   \n",
              "3  B000F83SZQ  [1, 1]        5   \n",
              "4  B000F83SZQ  [0, 1]        4   \n",
              "\n",
              "                                          reviewText reviewTime  \\\n",
              "0  I enjoy vintage books and movies so I enjoyed ... 2014-05-05   \n",
              "1  This book is a reissue of an old one; the auth... 2014-01-06   \n",
              "2  This was a fairly interesting read.  It had ol... 2014-04-04   \n",
              "3  I'd never read any of the Amy Brewster mysteri... 2014-02-19   \n",
              "4  If you like period pieces - clothing, lingo, y... 2014-03-19   \n",
              "\n",
              "       reviewerID                         reviewerName             summary  \\\n",
              "0  A1F6404F1VG29J                           Avidreader  Nice vintage story   \n",
              "1   AN0N05A9LIJEQ                             critters        Different...   \n",
              "2   A795DMNCJILA6                                  dot               Oldie   \n",
              "3  A1FV0SX13TWVXQ  Elaine H. Turley \"Montana Songbird\"  I really liked it.   \n",
              "4  A3SPTOKDG7WBLN                   Father Dowling Fan      Period Mystery   \n",
              "\n",
              "   unixReviewTime  Year  \n",
              "0      1399248000  2014  \n",
              "1      1388966400  2014  \n",
              "2      1396569600  2014  \n",
              "3      1392768000  2014  \n",
              "4      1395187200  2014  "
            ],
            "text/html": [
              "\n",
              "  <div id=\"df-4e65cd7e-b367-42c4-9db2-351ba31e8501\" class=\"colab-df-container\">\n",
              "    <div>\n",
              "<style scoped>\n",
              "    .dataframe tbody tr th:only-of-type {\n",
              "        vertical-align: middle;\n",
              "    }\n",
              "\n",
              "    .dataframe tbody tr th {\n",
              "        vertical-align: top;\n",
              "    }\n",
              "\n",
              "    .dataframe thead th {\n",
              "        text-align: right;\n",
              "    }\n",
              "</style>\n",
              "<table border=\"1\" class=\"dataframe\">\n",
              "  <thead>\n",
              "    <tr style=\"text-align: right;\">\n",
              "      <th></th>\n",
              "      <th>asin</th>\n",
              "      <th>helpful</th>\n",
              "      <th>overall</th>\n",
              "      <th>reviewText</th>\n",
              "      <th>reviewTime</th>\n",
              "      <th>reviewerID</th>\n",
              "      <th>reviewerName</th>\n",
              "      <th>summary</th>\n",
              "      <th>unixReviewTime</th>\n",
              "      <th>Year</th>\n",
              "    </tr>\n",
              "  </thead>\n",
              "  <tbody>\n",
              "    <tr>\n",
              "      <th>0</th>\n",
              "      <td>B000F83SZQ</td>\n",
              "      <td>[0, 0]</td>\n",
              "      <td>5</td>\n",
              "      <td>I enjoy vintage books and movies so I enjoyed ...</td>\n",
              "      <td>2014-05-05</td>\n",
              "      <td>A1F6404F1VG29J</td>\n",
              "      <td>Avidreader</td>\n",
              "      <td>Nice vintage story</td>\n",
              "      <td>1399248000</td>\n",
              "      <td>2014</td>\n",
              "    </tr>\n",
              "    <tr>\n",
              "      <th>1</th>\n",
              "      <td>B000F83SZQ</td>\n",
              "      <td>[2, 2]</td>\n",
              "      <td>4</td>\n",
              "      <td>This book is a reissue of an old one; the auth...</td>\n",
              "      <td>2014-01-06</td>\n",
              "      <td>AN0N05A9LIJEQ</td>\n",
              "      <td>critters</td>\n",
              "      <td>Different...</td>\n",
              "      <td>1388966400</td>\n",
              "      <td>2014</td>\n",
              "    </tr>\n",
              "    <tr>\n",
              "      <th>2</th>\n",
              "      <td>B000F83SZQ</td>\n",
              "      <td>[2, 2]</td>\n",
              "      <td>4</td>\n",
              "      <td>This was a fairly interesting read.  It had ol...</td>\n",
              "      <td>2014-04-04</td>\n",
              "      <td>A795DMNCJILA6</td>\n",
              "      <td>dot</td>\n",
              "      <td>Oldie</td>\n",
              "      <td>1396569600</td>\n",
              "      <td>2014</td>\n",
              "    </tr>\n",
              "    <tr>\n",
              "      <th>3</th>\n",
              "      <td>B000F83SZQ</td>\n",
              "      <td>[1, 1]</td>\n",
              "      <td>5</td>\n",
              "      <td>I'd never read any of the Amy Brewster mysteri...</td>\n",
              "      <td>2014-02-19</td>\n",
              "      <td>A1FV0SX13TWVXQ</td>\n",
              "      <td>Elaine H. Turley \"Montana Songbird\"</td>\n",
              "      <td>I really liked it.</td>\n",
              "      <td>1392768000</td>\n",
              "      <td>2014</td>\n",
              "    </tr>\n",
              "    <tr>\n",
              "      <th>4</th>\n",
              "      <td>B000F83SZQ</td>\n",
              "      <td>[0, 1]</td>\n",
              "      <td>4</td>\n",
              "      <td>If you like period pieces - clothing, lingo, y...</td>\n",
              "      <td>2014-03-19</td>\n",
              "      <td>A3SPTOKDG7WBLN</td>\n",
              "      <td>Father Dowling Fan</td>\n",
              "      <td>Period Mystery</td>\n",
              "      <td>1395187200</td>\n",
              "      <td>2014</td>\n",
              "    </tr>\n",
              "  </tbody>\n",
              "</table>\n",
              "</div>\n",
              "    <div class=\"colab-df-buttons\">\n",
              "\n",
              "  <div class=\"colab-df-container\">\n",
              "    <button class=\"colab-df-convert\" onclick=\"convertToInteractive('df-4e65cd7e-b367-42c4-9db2-351ba31e8501')\"\n",
              "            title=\"Convert this dataframe to an interactive table.\"\n",
              "            style=\"display:none;\">\n",
              "\n",
              "  <svg xmlns=\"http://www.w3.org/2000/svg\" height=\"24px\" viewBox=\"0 -960 960 960\">\n",
              "    <path d=\"M120-120v-720h720v720H120Zm60-500h600v-160H180v160Zm220 220h160v-160H400v160Zm0 220h160v-160H400v160ZM180-400h160v-160H180v160Zm440 0h160v-160H620v160ZM180-180h160v-160H180v160Zm440 0h160v-160H620v160Z\"/>\n",
              "  </svg>\n",
              "    </button>\n",
              "\n",
              "  <style>\n",
              "    .colab-df-container {\n",
              "      display:flex;\n",
              "      gap: 12px;\n",
              "    }\n",
              "\n",
              "    .colab-df-convert {\n",
              "      background-color: #E8F0FE;\n",
              "      border: none;\n",
              "      border-radius: 50%;\n",
              "      cursor: pointer;\n",
              "      display: none;\n",
              "      fill: #1967D2;\n",
              "      height: 32px;\n",
              "      padding: 0 0 0 0;\n",
              "      width: 32px;\n",
              "    }\n",
              "\n",
              "    .colab-df-convert:hover {\n",
              "      background-color: #E2EBFA;\n",
              "      box-shadow: 0px 1px 2px rgba(60, 64, 67, 0.3), 0px 1px 3px 1px rgba(60, 64, 67, 0.15);\n",
              "      fill: #174EA6;\n",
              "    }\n",
              "\n",
              "    .colab-df-buttons div {\n",
              "      margin-bottom: 4px;\n",
              "    }\n",
              "\n",
              "    [theme=dark] .colab-df-convert {\n",
              "      background-color: #3B4455;\n",
              "      fill: #D2E3FC;\n",
              "    }\n",
              "\n",
              "    [theme=dark] .colab-df-convert:hover {\n",
              "      background-color: #434B5C;\n",
              "      box-shadow: 0px 1px 3px 1px rgba(0, 0, 0, 0.15);\n",
              "      filter: drop-shadow(0px 1px 2px rgba(0, 0, 0, 0.3));\n",
              "      fill: #FFFFFF;\n",
              "    }\n",
              "  </style>\n",
              "\n",
              "    <script>\n",
              "      const buttonEl =\n",
              "        document.querySelector('#df-4e65cd7e-b367-42c4-9db2-351ba31e8501 button.colab-df-convert');\n",
              "      buttonEl.style.display =\n",
              "        google.colab.kernel.accessAllowed ? 'block' : 'none';\n",
              "\n",
              "      async function convertToInteractive(key) {\n",
              "        const element = document.querySelector('#df-4e65cd7e-b367-42c4-9db2-351ba31e8501');\n",
              "        const dataTable =\n",
              "          await google.colab.kernel.invokeFunction('convertToInteractive',\n",
              "                                                    [key], {});\n",
              "        if (!dataTable) return;\n",
              "\n",
              "        const docLinkHtml = 'Like what you see? Visit the ' +\n",
              "          '<a target=\"_blank\" href=https://colab.research.google.com/notebooks/data_table.ipynb>data table notebook</a>'\n",
              "          + ' to learn more about interactive tables.';\n",
              "        element.innerHTML = '';\n",
              "        dataTable['output_type'] = 'display_data';\n",
              "        await google.colab.output.renderOutput(dataTable, element);\n",
              "        const docLink = document.createElement('div');\n",
              "        docLink.innerHTML = docLinkHtml;\n",
              "        element.appendChild(docLink);\n",
              "      }\n",
              "    </script>\n",
              "  </div>\n",
              "\n",
              "\n",
              "<div id=\"df-e90de70d-5952-434e-aaaa-164f5ab73257\">\n",
              "  <button class=\"colab-df-quickchart\" onclick=\"quickchart('df-e90de70d-5952-434e-aaaa-164f5ab73257')\"\n",
              "            title=\"Suggest charts\"\n",
              "            style=\"display:none;\">\n",
              "\n",
              "<svg xmlns=\"http://www.w3.org/2000/svg\" height=\"24px\"viewBox=\"0 0 24 24\"\n",
              "     width=\"24px\">\n",
              "    <g>\n",
              "        <path d=\"M19 3H5c-1.1 0-2 .9-2 2v14c0 1.1.9 2 2 2h14c1.1 0 2-.9 2-2V5c0-1.1-.9-2-2-2zM9 17H7v-7h2v7zm4 0h-2V7h2v10zm4 0h-2v-4h2v4z\"/>\n",
              "    </g>\n",
              "</svg>\n",
              "  </button>\n",
              "\n",
              "<style>\n",
              "  .colab-df-quickchart {\n",
              "      --bg-color: #E8F0FE;\n",
              "      --fill-color: #1967D2;\n",
              "      --hover-bg-color: #E2EBFA;\n",
              "      --hover-fill-color: #174EA6;\n",
              "      --disabled-fill-color: #AAA;\n",
              "      --disabled-bg-color: #DDD;\n",
              "  }\n",
              "\n",
              "  [theme=dark] .colab-df-quickchart {\n",
              "      --bg-color: #3B4455;\n",
              "      --fill-color: #D2E3FC;\n",
              "      --hover-bg-color: #434B5C;\n",
              "      --hover-fill-color: #FFFFFF;\n",
              "      --disabled-bg-color: #3B4455;\n",
              "      --disabled-fill-color: #666;\n",
              "  }\n",
              "\n",
              "  .colab-df-quickchart {\n",
              "    background-color: var(--bg-color);\n",
              "    border: none;\n",
              "    border-radius: 50%;\n",
              "    cursor: pointer;\n",
              "    display: none;\n",
              "    fill: var(--fill-color);\n",
              "    height: 32px;\n",
              "    padding: 0;\n",
              "    width: 32px;\n",
              "  }\n",
              "\n",
              "  .colab-df-quickchart:hover {\n",
              "    background-color: var(--hover-bg-color);\n",
              "    box-shadow: 0 1px 2px rgba(60, 64, 67, 0.3), 0 1px 3px 1px rgba(60, 64, 67, 0.15);\n",
              "    fill: var(--button-hover-fill-color);\n",
              "  }\n",
              "\n",
              "  .colab-df-quickchart-complete:disabled,\n",
              "  .colab-df-quickchart-complete:disabled:hover {\n",
              "    background-color: var(--disabled-bg-color);\n",
              "    fill: var(--disabled-fill-color);\n",
              "    box-shadow: none;\n",
              "  }\n",
              "\n",
              "  .colab-df-spinner {\n",
              "    border: 2px solid var(--fill-color);\n",
              "    border-color: transparent;\n",
              "    border-bottom-color: var(--fill-color);\n",
              "    animation:\n",
              "      spin 1s steps(1) infinite;\n",
              "  }\n",
              "\n",
              "  @keyframes spin {\n",
              "    0% {\n",
              "      border-color: transparent;\n",
              "      border-bottom-color: var(--fill-color);\n",
              "      border-left-color: var(--fill-color);\n",
              "    }\n",
              "    20% {\n",
              "      border-color: transparent;\n",
              "      border-left-color: var(--fill-color);\n",
              "      border-top-color: var(--fill-color);\n",
              "    }\n",
              "    30% {\n",
              "      border-color: transparent;\n",
              "      border-left-color: var(--fill-color);\n",
              "      border-top-color: var(--fill-color);\n",
              "      border-right-color: var(--fill-color);\n",
              "    }\n",
              "    40% {\n",
              "      border-color: transparent;\n",
              "      border-right-color: var(--fill-color);\n",
              "      border-top-color: var(--fill-color);\n",
              "    }\n",
              "    60% {\n",
              "      border-color: transparent;\n",
              "      border-right-color: var(--fill-color);\n",
              "    }\n",
              "    80% {\n",
              "      border-color: transparent;\n",
              "      border-right-color: var(--fill-color);\n",
              "      border-bottom-color: var(--fill-color);\n",
              "    }\n",
              "    90% {\n",
              "      border-color: transparent;\n",
              "      border-bottom-color: var(--fill-color);\n",
              "    }\n",
              "  }\n",
              "</style>\n",
              "\n",
              "  <script>\n",
              "    async function quickchart(key) {\n",
              "      const quickchartButtonEl =\n",
              "        document.querySelector('#' + key + ' button');\n",
              "      quickchartButtonEl.disabled = true;  // To prevent multiple clicks.\n",
              "      quickchartButtonEl.classList.add('colab-df-spinner');\n",
              "      try {\n",
              "        const charts = await google.colab.kernel.invokeFunction(\n",
              "            'suggestCharts', [key], {});\n",
              "      } catch (error) {\n",
              "        console.error('Error during call to suggestCharts:', error);\n",
              "      }\n",
              "      quickchartButtonEl.classList.remove('colab-df-spinner');\n",
              "      quickchartButtonEl.classList.add('colab-df-quickchart-complete');\n",
              "    }\n",
              "    (() => {\n",
              "      let quickchartButtonEl =\n",
              "        document.querySelector('#df-e90de70d-5952-434e-aaaa-164f5ab73257 button');\n",
              "      quickchartButtonEl.style.display =\n",
              "        google.colab.kernel.accessAllowed ? 'block' : 'none';\n",
              "    })();\n",
              "  </script>\n",
              "</div>\n",
              "    </div>\n",
              "  </div>\n"
            ],
            "application/vnd.google.colaboratory.intrinsic+json": {
              "type": "dataframe",
              "variable_name": "df",
              "summary": "{\n  \"name\": \"df\",\n  \"rows\": 30114,\n  \"fields\": [\n    {\n      \"column\": \"asin\",\n      \"properties\": {\n        \"dtype\": \"category\",\n        \"num_unique_values\": 2310,\n        \"samples\": [\n          \"B003U89RYY\",\n          \"B002IT5SIA\",\n          \"B003MQMPLQ\"\n        ],\n        \"semantic_type\": \"\",\n        \"description\": \"\"\n      }\n    },\n    {\n      \"column\": \"helpful\",\n      \"properties\": {\n        \"dtype\": \"category\",\n        \"num_unique_values\": 474,\n        \"samples\": [\n          \"[71, 76]\",\n          \"[44, 45]\",\n          \"[49, 57]\"\n        ],\n        \"semantic_type\": \"\",\n        \"description\": \"\"\n      }\n    },\n    {\n      \"column\": \"overall\",\n      \"properties\": {\n        \"dtype\": \"number\",\n        \"std\": 1,\n        \"min\": 1,\n        \"max\": 5,\n        \"num_unique_values\": 5,\n        \"samples\": [\n          4,\n          1,\n          3\n        ],\n        \"semantic_type\": \"\",\n        \"description\": \"\"\n      }\n    },\n    {\n      \"column\": \"reviewText\",\n      \"properties\": {\n        \"dtype\": \"string\",\n        \"num_unique_values\": 30112,\n        \"samples\": [\n          \"I enjoyed this book a lot. A good plot and likable characters make it even better! Short but really hot.\",\n          \"real well written book. very realistic end of the world book. love the character's. the plot flowed well. I couldn't put it down. I hope there is a sequel.\",\n          \"Three college friends tackle the adult world. MJ pursues a graduate degree at an unnamed British university and finds herself pursued by several men; Claudia follows her boyfriend to his new job in the Midwest and tries to make it as a writer; Sophie hates her advertising dream job and finds a new and unexpected career.I borrowed this book from another Kindle owner through the Lendle.me website. The three separate storylines are confusing at times, and it's just unbelievable that all three young women have men dripping off them. But many of the problems they face are similar to problems that my own twenty-something children are facing, so I didn't have any problem believing the rest of the book, and the stories kept me reading. Kindle formatting was okay. The book title was okay although not uniquely appropriate.\"\n        ],\n        \"semantic_type\": \"\",\n        \"description\": \"\"\n      }\n    },\n    {\n      \"column\": \"reviewTime\",\n      \"properties\": {\n        \"dtype\": \"date\",\n        \"min\": \"2000-06-06 00:00:00\",\n        \"max\": \"2014-07-21 00:00:00\",\n        \"num_unique_values\": 2027,\n        \"samples\": [\n          \"2011-02-26 00:00:00\",\n          \"2008-11-23 00:00:00\",\n          \"2011-07-29 00:00:00\"\n        ],\n        \"semantic_type\": \"\",\n        \"description\": \"\"\n      }\n    },\n    {\n      \"column\": \"reviewerID\",\n      \"properties\": {\n        \"dtype\": \"string\",\n        \"num_unique_values\": 15469,\n        \"samples\": [\n          \"A1SEG7BE4L5CXH\",\n          \"A2WXCV14VMRK5O\",\n          \"A3M5F7W63UL56L\"\n        ],\n        \"semantic_type\": \"\",\n        \"description\": \"\"\n      }\n    },\n    {\n      \"column\": \"reviewerName\",\n      \"properties\": {\n        \"dtype\": \"category\",\n        \"num_unique_values\": 13486,\n        \"samples\": [\n          \"Tammy \\\"T79\\\"\",\n          \"Wolfie\",\n          \"shoelover\"\n        ],\n        \"semantic_type\": \"\",\n        \"description\": \"\"\n      }\n    },\n    {\n      \"column\": \"summary\",\n      \"properties\": {\n        \"dtype\": \"string\",\n        \"num_unique_values\": 23694,\n        \"samples\": [\n          \"A nice short description of a house in haunting language\",\n          \"Too much in a short time.\",\n          \"It's important that we take the time to let others know how much we like a product!\"\n        ],\n        \"semantic_type\": \"\",\n        \"description\": \"\"\n      }\n    },\n    {\n      \"column\": \"unixReviewTime\",\n      \"properties\": {\n        \"dtype\": \"number\",\n        \"std\": 41313918,\n        \"min\": 960249600,\n        \"max\": 1405900800,\n        \"num_unique_values\": 2027,\n        \"samples\": [\n          1298678400,\n          1227398400,\n          1311897600\n        ],\n        \"semantic_type\": \"\",\n        \"description\": \"\"\n      }\n    },\n    {\n      \"column\": \"Year\",\n      \"properties\": {\n        \"dtype\": \"int32\",\n        \"num_unique_values\": 14,\n        \"samples\": [\n          2002,\n          2001,\n          2014\n        ],\n        \"semantic_type\": \"\",\n        \"description\": \"\"\n      }\n    }\n  ]\n}"
            }
          },
          "metadata": {},
          "execution_count": 7
        }
      ],
      "source": [
        "#contained an extra Unnamed column\n",
        "df.drop(df.columns[0], axis = 1, inplace = True)\n",
        "\n",
        "#drop the rows where there are no reviews\n",
        "df.dropna(subset = ['reviewText'], inplace = True)\n",
        "\n",
        "#changing the reviewTime column to be of datetime type\n",
        "df.reviewTime = pd.to_datetime(df.reviewTime)\n",
        "\n",
        "#creating a column with just the year\n",
        "df['Year'] = df.reviewTime.dt.year\n",
        "df.head()"
      ]
    },
    {
      "cell_type": "code",
      "execution_count": 8,
      "metadata": {
        "colab": {
          "base_uri": "https://localhost:8080/",
          "height": 493
        },
        "id": "w-gFCLa_Z6P2",
        "outputId": "777c9806-f035-4017-d0ec-2720efd4116b"
      },
      "outputs": [
        {
          "output_type": "display_data",
          "data": {
            "text/plain": [
              "<Figure size 640x480 with 1 Axes>"
            ],
            "image/png": "[encoded data removed]"
          },
          "metadata": {}
        }
      ],
      "source": [
        "#number of reviews per year, it seems almost all reviews came from 2013 and 2014\n",
        "df.Year.value_counts().sort_index().plot(kind = 'bar')\n",
        "plt.title('Number of Reviews per Year')\n",
        "plt.xlabel('Year')\n",
        "plt.ylabel('Number of Reviews')\n",
        "plt.show()"
      ]
    },
    {
      "cell_type": "code",
      "execution_count": 9,
      "metadata": {
        "id": "jtSZuWWJZ6P3",
        "outputId": "d4e9daed-290c-4c2d-8731-0228e690302a",
        "colab": {
          "base_uri": "https://localhost:8080/",
          "height": 770
        }
      },
      "outputs": [
        {
          "output_type": "display_data",
          "data": {
            "text/plain": [
              "<Figure size 640x480 with 1 Axes>"
            ],
            "image/png": "[encoded data removed]"
          },
          "metadata": {}
        }
      ],
      "source": [
        "#top 10 users base on the number of reviews made\n",
        "df.reviewerName.value_counts().head(10).plot(kind = 'bar')\n",
        "plt.xticks(rotation = 80)\n",
        "plt.xlabel('UserID')\n",
        "plt.ylabel('Number of Reviews')\n",
        "plt.show()"
      ]
    },
    {
      "cell_type": "code",
      "execution_count": 10,
      "metadata": {
        "id": "t5hM4CZ8Z6P3",
        "outputId": "6e29c296-7953-4f28-f882-9db467ef29c8",
        "colab": {
          "base_uri": "https://localhost:8080/"
        }
      },
      "outputs": [
        {
          "output_type": "execute_result",
          "data": {
            "text/plain": [
              "4.076509264793784"
            ]
          },
          "metadata": {},
          "execution_count": 10
        }
      ],
      "source": [
        "#the overall average review on all the ratings. Seems to be skewed to have above average ratings.\n",
        "df.overall.mean()"
      ]
    },
    {
      "cell_type": "code",
      "execution_count": 11,
      "metadata": {
        "id": "_QC57clAZ6P3",
        "outputId": "835eef91-18ba-4e4b-d7be-8146fcf0305a",
        "colab": {
          "base_uri": "https://localhost:8080/"
        }
      },
      "outputs": [
        {
          "output_type": "execute_result",
          "data": {
            "text/plain": [
              "overall\n",
              "5    13857\n",
              "4     9026\n",
              "3     4212\n",
              "2     1716\n",
              "1     1303\n",
              "Name: count, dtype: int64"
            ]
          },
          "metadata": {},
          "execution_count": 11
        }
      ],
      "source": [
        "#the disparity between the rating scale is huge, could perform some downsample to have each class roughly have 20k samples\n",
        "df.overall.value_counts()"
      ]
    },
    {
      "cell_type": "code",
      "execution_count": 12,
      "metadata": {
        "id": "qasnbeYPZ6P3",
        "outputId": "ef3dbf58-d0b8-42e1-f67e-c9d99a40e247",
        "colab": {
          "base_uri": "https://localhost:8080/",
          "height": 472
        }
      },
      "outputs": [
        {
          "output_type": "display_data",
          "data": {
            "text/plain": [
              "<Figure size 640x480 with 1 Axes>"
            ],
            "image/png": "[encoded data removed]"
          },
          "metadata": {}
        }
      ],
      "source": [
        "#Take a deeper look into how many ratings we have per scale. Theres are more good ratings than there are bad ratings.\n",
        "df.overall.value_counts().plot(kind = 'bar')\n",
        "plt.title('Number of Good Ratings vs Bad Ratings')\n",
        "plt.xlabel('Rating Scales')\n",
        "plt.xticks(rotation = 0)\n",
        "plt.ylabel('Total ratings')\n",
        "plt.show()"
      ]
    },
    {
      "cell_type": "markdown",
      "metadata": {
        "id": "4-oXTCNwZ6P4"
      },
      "source": [
        "### Text Preprocessing\n",
        "\n",
        "The following cells provide the steps taken to preprocess the review texts for better feature extraction. Once the text has been preprocessed, it can then be used to develop a vocabulary for training.\n",
        "\n",
        "1. Removing punctuations\n",
        "2. Removing non alphabetical words\n",
        "3. Lowercasing all words\n",
        "4. Removing stopwords\n",
        "5. Lemmatization to reduce words to their base form"
      ]
    },
    {
      "cell_type": "code",
      "execution_count": 13,
      "metadata": {
        "scrolled": true,
        "id": "fV5xwvIjZ6P4",
        "outputId": "d6fbbee4-5c47-4589-e78c-744b5e3e6ae0",
        "colab": {
          "base_uri": "https://localhost:8080/",
          "height": 206
        }
      },
      "outputs": [
        {
          "output_type": "execute_result",
          "data": {
            "text/plain": [
              "                                          reviewText  overall\n",
              "0  I enjoy vintage books and movies so I enjoyed ...        5\n",
              "1  This book is a reissue of an old one; the auth...        4\n",
              "2  This was a fairly interesting read.  It had ol...        4\n",
              "3  I'd never read any of the Amy Brewster mysteri...        5\n",
              "4  If you like period pieces - clothing, lingo, y...        4"
            ],
            "text/html": [
              "\n",
              "  <div id=\"df-bd517387-34a1-4f21-8d15-b247d89279f1\" class=\"colab-df-container\">\n",
              "    <div>\n",
              "<style scoped>\n",
              "    .dataframe tbody tr th:only-of-type {\n",
              "        vertical-align: middle;\n",
              "    }\n",
              "\n",
              "    .dataframe tbody tr th {\n",
              "        vertical-align: top;\n",
              "    }\n",
              "\n",
              "    .dataframe thead th {\n",
              "        text-align: right;\n",
              "    }\n",
              "</style>\n",
              "<table border=\"1\" class=\"dataframe\">\n",
              "  <thead>\n",
              "    <tr style=\"text-align: right;\">\n",
              "      <th></th>\n",
              "      <th>reviewText</th>\n",
              "      <th>overall</th>\n",
              "    </tr>\n",
              "  </thead>\n",
              "  <tbody>\n",
              "    <tr>\n",
              "      <th>0</th>\n",
              "      <td>I enjoy vintage books and movies so I enjoyed ...</td>\n",
              "      <td>5</td>\n",
              "    </tr>\n",
              "    <tr>\n",
              "      <th>1</th>\n",
              "      <td>This book is a reissue of an old one; the auth...</td>\n",
              "      <td>4</td>\n",
              "    </tr>\n",
              "    <tr>\n",
              "      <th>2</th>\n",
              "      <td>This was a fairly interesting read.  It had ol...</td>\n",
              "      <td>4</td>\n",
              "    </tr>\n",
              "    <tr>\n",
              "      <th>3</th>\n",
              "      <td>I'd never read any of the Amy Brewster mysteri...</td>\n",
              "      <td>5</td>\n",
              "    </tr>\n",
              "    <tr>\n",
              "      <th>4</th>\n",
              "      <td>If you like period pieces - clothing, lingo, y...</td>\n",
              "      <td>4</td>\n",
              "    </tr>\n",
              "  </tbody>\n",
              "</table>\n",
              "</div>\n",
              "    <div class=\"colab-df-buttons\">\n",
              "\n",
              "  <div class=\"colab-df-container\">\n",
              "    <button class=\"colab-df-convert\" onclick=\"convertToInteractive('df-bd517387-34a1-4f21-8d15-b247d89279f1')\"\n",
              "            title=\"Convert this dataframe to an interactive table.\"\n",
              "            style=\"display:none;\">\n",
              "\n",
              "  <svg xmlns=\"http://www.w3.org/2000/svg\" height=\"24px\" viewBox=\"0 -960 960 960\">\n",
              "    <path d=\"M120-120v-720h720v720H120Zm60-500h600v-160H180v160Zm220 220h160v-160H400v160Zm0 220h160v-160H400v160ZM180-400h160v-160H180v160Zm440 0h160v-160H620v160ZM180-180h160v-160H180v160Zm440 0h160v-160H620v160Z\"/>\n",
              "  </svg>\n",
              "    </button>\n",
              "\n",
              "  <style>\n",
              "    .colab-df-container {\n",
              "      display:flex;\n",
              "      gap: 12px;\n",
              "    }\n",
              "\n",
              "    .colab-df-convert {\n",
              "      background-color: #E8F0FE;\n",
              "      border: none;\n",
              "      border-radius: 50%;\n",
              "      cursor: pointer;\n",
              "      display: none;\n",
              "      fill: #1967D2;\n",
              "      height: 32px;\n",
              "      padding: 0 0 0 0;\n",
              "      width: 32px;\n",
              "    }\n",
              "\n",
              "    .colab-df-convert:hover {\n",
              "      background-color: #E2EBFA;\n",
              "      box-shadow: 0px 1px 2px rgba(60, 64, 67, 0.3), 0px 1px 3px 1px rgba(60, 64, 67, 0.15);\n",
              "      fill: #174EA6;\n",
              "    }\n",
              "\n",
              "    .colab-df-buttons div {\n",
              "      margin-bottom: 4px;\n",
              "    }\n",
              "\n",
              "    [theme=dark] .colab-df-convert {\n",
              "      background-color: #3B4455;\n",
              "      fill: #D2E3FC;\n",
              "    }\n",
              "\n",
              "    [theme=dark] .colab-df-convert:hover {\n",
              "      background-color: #434B5C;\n",
              "      box-shadow: 0px 1px 3px 1px rgba(0, 0, 0, 0.15);\n",
              "      filter: drop-shadow(0px 1px 2px rgba(0, 0, 0, 0.3));\n",
              "      fill: #FFFFFF;\n",
              "    }\n",
              "  </style>\n",
              "\n",
              "    <script>\n",
              "      const buttonEl =\n",
              "        document.querySelector('#df-bd517387-34a1-4f21-8d15-b247d89279f1 button.colab-df-convert');\n",
              "      buttonEl.style.display =\n",
              "        google.colab.kernel.accessAllowed ? 'block' : 'none';\n",
              "\n",
              "      async function convertToInteractive(key) {\n",
              "        const element = document.querySelector('#df-bd517387-34a1-4f21-8d15-b247d89279f1');\n",
              "        const dataTable =\n",
              "          await google.colab.kernel.invokeFunction('convertToInteractive',\n",
              "                                                    [key], {});\n",
              "        if (!dataTable) return;\n",
              "\n",
              "        const docLinkHtml = 'Like what you see? Visit the ' +\n",
              "          '<a target=\"_blank\" href=https://colab.research.google.com/notebooks/data_table.ipynb>data table notebook</a>'\n",
              "          + ' to learn more about interactive tables.';\n",
              "        element.innerHTML = '';\n",
              "        dataTable['output_type'] = 'display_data';\n",
              "        await google.colab.output.renderOutput(dataTable, element);\n",
              "        const docLink = document.createElement('div');\n",
              "        docLink.innerHTML = docLinkHtml;\n",
              "        element.appendChild(docLink);\n",
              "      }\n",
              "    </script>\n",
              "  </div>\n",
              "\n",
              "\n",
              "<div id=\"df-be0791fe-5b3c-468f-989d-2454727677fb\">\n",
              "  <button class=\"colab-df-quickchart\" onclick=\"quickchart('df-be0791fe-5b3c-468f-989d-2454727677fb')\"\n",
              "            title=\"Suggest charts\"\n",
              "            style=\"display:none;\">\n",
              "\n",
              "<svg xmlns=\"http://www.w3.org/2000/svg\" height=\"24px\"viewBox=\"0 0 24 24\"\n",
              "     width=\"24px\">\n",
              "    <g>\n",
              "        <path d=\"M19 3H5c-1.1 0-2 .9-2 2v14c0 1.1.9 2 2 2h14c1.1 0 2-.9 2-2V5c0-1.1-.9-2-2-2zM9 17H7v-7h2v7zm4 0h-2V7h2v10zm4 0h-2v-4h2v4z\"/>\n",
              "    </g>\n",
              "</svg>\n",
              "  </button>\n",
              "\n",
              "<style>\n",
              "  .colab-df-quickchart {\n",
              "      --bg-color: #E8F0FE;\n",
              "      --fill-color: #1967D2;\n",
              "      --hover-bg-color: #E2EBFA;\n",
              "      --hover-fill-color: #174EA6;\n",
              "      --disabled-fill-color: #AAA;\n",
              "      --disabled-bg-color: #DDD;\n",
              "  }\n",
              "\n",
              "  [theme=dark] .colab-df-quickchart {\n",
              "      --bg-color: #3B4455;\n",
              "      --fill-color: #D2E3FC;\n",
              "      --hover-bg-color: #434B5C;\n",
              "      --hover-fill-color: #FFFFFF;\n",
              "      --disabled-bg-color: #3B4455;\n",
              "      --disabled-fill-color: #666;\n",
              "  }\n",
              "\n",
              "  .colab-df-quickchart {\n",
              "    background-color: var(--bg-color);\n",
              "    border: none;\n",
              "    border-radius: 50%;\n",
              "    cursor: pointer;\n",
              "    display: none;\n",
              "    fill: var(--fill-color);\n",
              "    height: 32px;\n",
              "    padding: 0;\n",
              "    width: 32px;\n",
              "  }\n",
              "\n",
              "  .colab-df-quickchart:hover {\n",
              "    background-color: var(--hover-bg-color);\n",
              "    box-shadow: 0 1px 2px rgba(60, 64, 67, 0.3), 0 1px 3px 1px rgba(60, 64, 67, 0.15);\n",
              "    fill: var(--button-hover-fill-color);\n",
              "  }\n",
              "\n",
              "  .colab-df-quickchart-complete:disabled,\n",
              "  .colab-df-quickchart-complete:disabled:hover {\n",
              "    background-color: var(--disabled-bg-color);\n",
              "    fill: var(--disabled-fill-color);\n",
              "    box-shadow: none;\n",
              "  }\n",
              "\n",
              "  .colab-df-spinner {\n",
              "    border: 2px solid var(--fill-color);\n",
              "    border-color: transparent;\n",
              "    border-bottom-color: var(--fill-color);\n",
              "    animation:\n",
              "      spin 1s steps(1) infinite;\n",
              "  }\n",
              "\n",
              "  @keyframes spin {\n",
              "    0% {\n",
              "      border-color: transparent;\n",
              "      border-bottom-color: var(--fill-color);\n",
              "      border-left-color: var(--fill-color);\n",
              "    }\n",
              "    20% {\n",
              "      border-color: transparent;\n",
              "      border-left-color: var(--fill-color);\n",
              "      border-top-color: var(--fill-color);\n",
              "    }\n",
              "    30% {\n",
              "      border-color: transparent;\n",
              "      border-left-color: var(--fill-color);\n",
              "      border-top-color: var(--fill-color);\n",
              "      border-right-color: var(--fill-color);\n",
              "    }\n",
              "    40% {\n",
              "      border-color: transparent;\n",
              "      border-right-color: var(--fill-color);\n",
              "      border-top-color: var(--fill-color);\n",
              "    }\n",
              "    60% {\n",
              "      border-color: transparent;\n",
              "      border-right-color: var(--fill-color);\n",
              "    }\n",
              "    80% {\n",
              "      border-color: transparent;\n",
              "      border-right-color: var(--fill-color);\n",
              "      border-bottom-color: var(--fill-color);\n",
              "    }\n",
              "    90% {\n",
              "      border-color: transparent;\n",
              "      border-bottom-color: var(--fill-color);\n",
              "    }\n",
              "  }\n",
              "</style>\n",
              "\n",
              "  <script>\n",
              "    async function quickchart(key) {\n",
              "      const quickchartButtonEl =\n",
              "        document.querySelector('#' + key + ' button');\n",
              "      quickchartButtonEl.disabled = true;  // To prevent multiple clicks.\n",
              "      quickchartButtonEl.classList.add('colab-df-spinner');\n",
              "      try {\n",
              "        const charts = await google.colab.kernel.invokeFunction(\n",
              "            'suggestCharts', [key], {});\n",
              "      } catch (error) {\n",
              "        console.error('Error during call to suggestCharts:', error);\n",
              "      }\n",
              "      quickchartButtonEl.classList.remove('colab-df-spinner');\n",
              "      quickchartButtonEl.classList.add('colab-df-quickchart-complete');\n",
              "    }\n",
              "    (() => {\n",
              "      let quickchartButtonEl =\n",
              "        document.querySelector('#df-be0791fe-5b3c-468f-989d-2454727677fb button');\n",
              "      quickchartButtonEl.style.display =\n",
              "        google.colab.kernel.accessAllowed ? 'block' : 'none';\n",
              "    })();\n",
              "  </script>\n",
              "</div>\n",
              "    </div>\n",
              "  </div>\n"
            ],
            "application/vnd.google.colaboratory.intrinsic+json": {
              "type": "dataframe",
              "variable_name": "reviews",
              "summary": "{\n  \"name\": \"reviews\",\n  \"rows\": 30114,\n  \"fields\": [\n    {\n      \"column\": \"reviewText\",\n      \"properties\": {\n        \"dtype\": \"string\",\n        \"num_unique_values\": 30112,\n        \"samples\": [\n          \"I enjoyed this book a lot. A good plot and likable characters make it even better! Short but really hot.\",\n          \"real well written book. very realistic end of the world book. love the character's. the plot flowed well. I couldn't put it down. I hope there is a sequel.\",\n          \"Three college friends tackle the adult world. MJ pursues a graduate degree at an unnamed British university and finds herself pursued by several men; Claudia follows her boyfriend to his new job in the Midwest and tries to make it as a writer; Sophie hates her advertising dream job and finds a new and unexpected career.I borrowed this book from another Kindle owner through the Lendle.me website. The three separate storylines are confusing at times, and it's just unbelievable that all three young women have men dripping off them. But many of the problems they face are similar to problems that my own twenty-something children are facing, so I didn't have any problem believing the rest of the book, and the stories kept me reading. Kindle formatting was okay. The book title was okay although not uniquely appropriate.\"\n        ],\n        \"semantic_type\": \"\",\n        \"description\": \"\"\n      }\n    },\n    {\n      \"column\": \"overall\",\n      \"properties\": {\n        \"dtype\": \"number\",\n        \"std\": 1,\n        \"min\": 1,\n        \"max\": 5,\n        \"num_unique_values\": 5,\n        \"samples\": [\n          4,\n          1,\n          3\n        ],\n        \"semantic_type\": \"\",\n        \"description\": \"\"\n      }\n    }\n  ]\n}"
            }
          },
          "metadata": {},
          "execution_count": 13
        }
      ],
      "source": [
        "#created a dataframe that only contains the reviewText and the overall scoring of item\n",
        "reviews = df[['reviewText', 'overall']]\n",
        "reviews.head()"
      ]
    },
    {
      "cell_type": "code",
      "execution_count": 14,
      "metadata": {
        "id": "WQU1-Q_vZ6P4",
        "outputId": "8e43e235-6496-4c5a-ffdc-2fe36ea0ee59",
        "colab": {
          "base_uri": "https://localhost:8080/"
        }
      },
      "outputs": [
        {
          "output_type": "stream",
          "name": "stdout",
          "text": [
            "Original Text: This book is a reissue of an old one; the author was born in 1910. It's of the era of, say, Nero Wolfe. The introduction was quite interesting, explaining who the author was and why he's been forgotten; I'd never heard of him.The language is a little dated at times, like calling a gun a &#34;heater.&#34;  I also made good use of my Fire's dictionary to look up words like &#34;deshabille&#34; and &#34;Canarsie.&#34; Still, it was well worth a look-see.\n",
            "\n",
            "\n",
            "Punctuation Remove: This book is a reissue of an old one the author was born in 1910 Its of the era of say Nero Wolfe The introduction was quite interesting explaining who the author was and why hes been forgotten Id never heard of himThe language is a little dated at times like calling a gun a 34heater34 I also made good use of my Fires dictionary to look up words like 34deshabille34 and 34Canarsie34 Still it was well worth a looksee\n",
            "\n",
            "\n",
            "Alphabetical Words: This book is a reissue of an old one the author was born in Its of the era of say Nero Wolfe The introduction was quite interesting explaining who the author was and why hes been forgotten Id never heard of himThe language is a little dated at times like calling a gun a I also made good use of my Fires dictionary to look up words like and Still it was well worth a looksee\n",
            "\n",
            "\n",
            "Lowercase Words : this book is a reissue of an old one the author was born in its of the era of say nero wolfe the introduction was quite interesting explaining who the author was and why hes been forgotten id never heard of himthe language is a little dated at times like calling a gun a i also made good use of my fires dictionary to look up words like and still it was well worth a looksee\n",
            "\n",
            "\n",
            "Stopwords Remove: book reissue old one author born era say nero wolfe introduction quite interesting explaining author hes forgotten id never heard himthe language little dated times like calling gun also made good use fires dictionary look words like still well worth looksee\n",
            "\n",
            "\n",
            "Lemmatized Text: book reissue old one author bear era say nero wolfe introduction quite interest explain author hes forget id never hear himthe language little date time like call gun also make good use fire dictionary look word like still well worth looksee\n"
          ]
        }
      ],
      "source": [
        "print('Original Text: ' + str(reviews['reviewText'][1]))\n",
        "print('\\n')\n",
        "\n",
        "#create an empty mapping table from the str object to strip punctuation from the words\n",
        "punc = str.maketrans('', '', string.punctuation)\n",
        "#apply the empty mapping table to each element of the series where x is the review for one document.\n",
        "reviews['reviewText'] = reviews['reviewText'].apply(lambda x : ' '.join(word.translate(punc) for word in x.split()))\n",
        "print('Punctuation Remove: ' + str(reviews['reviewText'][1]))\n",
        "print('\\n')\n",
        "\n",
        "#removing words that is non alpha\n",
        "reviews['reviewText'] = reviews['reviewText'].apply(lambda x: ' '.join(word for word in x.split() if word.isalpha()))\n",
        "print('Alphabetical Words: '+ str(reviews['reviewText'][1]))\n",
        "print('\\n')\n",
        "\n",
        "#making all words to be lowercase\n",
        "reviews['reviewText'] = reviews['reviewText'].apply(lambda x: ' '.join(word.lower() for word in x.split()))\n",
        "print('Lowercase Words : '+ str(reviews['reviewText'][1]))\n",
        "print('\\n')\n",
        "\n",
        "#list of stop words\n",
        "stop = stopwords.words('english')\n",
        "#removing the stop words\n",
        "reviews['reviewText'] = reviews['reviewText'].apply(lambda x : ' '.join(word for word in x.split() if word not in stop))\n",
        "print('Stopwords Remove: ' + str(reviews['reviewText'][1]))\n",
        "print('\\n')\n",
        "\n",
        "#Lemmatize words to reduce them to their root form. Note: added the pos = 'v' to reduce the incoming word to verb root\n",
        "lem = WordNetLemmatizer()\n",
        "reviews['reviewText'] = reviews['reviewText'].apply(lambda x : ' '.join(lem.lemmatize(word, pos = 'v') for word in x.split()))\n",
        "print('Lemmatized Text: ' + str(reviews['reviewText'][1]))"
      ]
    },
    {
      "cell_type": "code",
      "execution_count": 15,
      "metadata": {
        "id": "s5HeRni-Z6P4",
        "outputId": "509586b0-f586-4a19-9509-754cd7261679",
        "colab": {
          "base_uri": "https://localhost:8080/",
          "height": 206
        }
      },
      "outputs": [
        {
          "output_type": "execute_result",
          "data": {
            "text/plain": [
              "                                          reviewText  overall\n",
              "0  enjoy vintage book movies enjoy read book plot...        1\n",
              "1  book reissue old one author bear era say nero ...        1\n",
              "2  fairly interest read old style terminologyi gl...        1\n",
              "3  id never read amy brewster mysteries one reall...        1\n",
              "4  like period piece clothe lingo enjoy mystery a...        1"
            ],
            "text/html": [
              "\n",
              "  <div id=\"df-3a79ada7-4d86-4ec6-baaf-6c47a4714c24\" class=\"colab-df-container\">\n",
              "    <div>\n",
              "<style scoped>\n",
              "    .dataframe tbody tr th:only-of-type {\n",
              "        vertical-align: middle;\n",
              "    }\n",
              "\n",
              "    .dataframe tbody tr th {\n",
              "        vertical-align: top;\n",
              "    }\n",
              "\n",
              "    .dataframe thead th {\n",
              "        text-align: right;\n",
              "    }\n",
              "</style>\n",
              "<table border=\"1\" class=\"dataframe\">\n",
              "  <thead>\n",
              "    <tr style=\"text-align: right;\">\n",
              "      <th></th>\n",
              "      <th>reviewText</th>\n",
              "      <th>overall</th>\n",
              "    </tr>\n",
              "  </thead>\n",
              "  <tbody>\n",
              "    <tr>\n",
              "      <th>0</th>\n",
              "      <td>enjoy vintage book movies enjoy read book plot...</td>\n",
              "      <td>1</td>\n",
              "    </tr>\n",
              "    <tr>\n",
              "      <th>1</th>\n",
              "      <td>book reissue old one author bear era say nero ...</td>\n",
              "      <td>1</td>\n",
              "    </tr>\n",
              "    <tr>\n",
              "      <th>2</th>\n",
              "      <td>fairly interest read old style terminologyi gl...</td>\n",
              "      <td>1</td>\n",
              "    </tr>\n",
              "    <tr>\n",
              "      <th>3</th>\n",
              "      <td>id never read amy brewster mysteries one reall...</td>\n",
              "      <td>1</td>\n",
              "    </tr>\n",
              "    <tr>\n",
              "      <th>4</th>\n",
              "      <td>like period piece clothe lingo enjoy mystery a...</td>\n",
              "      <td>1</td>\n",
              "    </tr>\n",
              "  </tbody>\n",
              "</table>\n",
              "</div>\n",
              "    <div class=\"colab-df-buttons\">\n",
              "\n",
              "  <div class=\"colab-df-container\">\n",
              "    <button class=\"colab-df-convert\" onclick=\"convertToInteractive('df-3a79ada7-4d86-4ec6-baaf-6c47a4714c24')\"\n",
              "            title=\"Convert this dataframe to an interactive table.\"\n",
              "            style=\"display:none;\">\n",
              "\n",
              "  <svg xmlns=\"http://www.w3.org/2000/svg\" height=\"24px\" viewBox=\"0 -960 960 960\">\n",
              "    <path d=\"M120-120v-720h720v720H120Zm60-500h600v-160H180v160Zm220 220h160v-160H400v160Zm0 220h160v-160H400v160ZM180-400h160v-160H180v160Zm440 0h160v-160H620v160ZM180-180h160v-160H180v160Zm440 0h160v-160H620v160Z\"/>\n",
              "  </svg>\n",
              "    </button>\n",
              "\n",
              "  <style>\n",
              "    .colab-df-container {\n",
              "      display:flex;\n",
              "      gap: 12px;\n",
              "    }\n",
              "\n",
              "    .colab-df-convert {\n",
              "      background-color: #E8F0FE;\n",
              "      border: none;\n",
              "      border-radius: 50%;\n",
              "      cursor: pointer;\n",
              "      display: none;\n",
              "      fill: #1967D2;\n",
              "      height: 32px;\n",
              "      padding: 0 0 0 0;\n",
              "      width: 32px;\n",
              "    }\n",
              "\n",
              "    .colab-df-convert:hover {\n",
              "      background-color: #E2EBFA;\n",
              "      box-shadow: 0px 1px 2px rgba(60, 64, 67, 0.3), 0px 1px 3px 1px rgba(60, 64, 67, 0.15);\n",
              "      fill: #174EA6;\n",
              "    }\n",
              "\n",
              "    .colab-df-buttons div {\n",
              "      margin-bottom: 4px;\n",
              "    }\n",
              "\n",
              "    [theme=dark] .colab-df-convert {\n",
              "      background-color: #3B4455;\n",
              "      fill: #D2E3FC;\n",
              "    }\n",
              "\n",
              "    [theme=dark] .colab-df-convert:hover {\n",
              "      background-color: #434B5C;\n",
              "      box-shadow: 0px 1px 3px 1px rgba(0, 0, 0, 0.15);\n",
              "      filter: drop-shadow(0px 1px 2px rgba(0, 0, 0, 0.3));\n",
              "      fill: #FFFFFF;\n",
              "    }\n",
              "  </style>\n",
              "\n",
              "    <script>\n",
              "      const buttonEl =\n",
              "        document.querySelector('#df-3a79ada7-4d86-4ec6-baaf-6c47a4714c24 button.colab-df-convert');\n",
              "      buttonEl.style.display =\n",
              "        google.colab.kernel.accessAllowed ? 'block' : 'none';\n",
              "\n",
              "      async function convertToInteractive(key) {\n",
              "        const element = document.querySelector('#df-3a79ada7-4d86-4ec6-baaf-6c47a4714c24');\n",
              "        const dataTable =\n",
              "          await google.colab.kernel.invokeFunction('convertToInteractive',\n",
              "                                                    [key], {});\n",
              "        if (!dataTable) return;\n",
              "\n",
              "        const docLinkHtml = 'Like what you see? Visit the ' +\n",
              "          '<a target=\"_blank\" href=https://colab.research.google.com/notebooks/data_table.ipynb>data table notebook</a>'\n",
              "          + ' to learn more about interactive tables.';\n",
              "        element.innerHTML = '';\n",
              "        dataTable['output_type'] = 'display_data';\n",
              "        await google.colab.output.renderOutput(dataTable, element);\n",
              "        const docLink = document.createElement('div');\n",
              "        docLink.innerHTML = docLinkHtml;\n",
              "        element.appendChild(docLink);\n",
              "      }\n",
              "    </script>\n",
              "  </div>\n",
              "\n",
              "\n",
              "<div id=\"df-10269951-ae9e-45fd-9a7c-848847883d24\">\n",
              "  <button class=\"colab-df-quickchart\" onclick=\"quickchart('df-10269951-ae9e-45fd-9a7c-848847883d24')\"\n",
              "            title=\"Suggest charts\"\n",
              "            style=\"display:none;\">\n",
              "\n",
              "<svg xmlns=\"http://www.w3.org/2000/svg\" height=\"24px\"viewBox=\"0 0 24 24\"\n",
              "     width=\"24px\">\n",
              "    <g>\n",
              "        <path d=\"M19 3H5c-1.1 0-2 .9-2 2v14c0 1.1.9 2 2 2h14c1.1 0 2-.9 2-2V5c0-1.1-.9-2-2-2zM9 17H7v-7h2v7zm4 0h-2V7h2v10zm4 0h-2v-4h2v4z\"/>\n",
              "    </g>\n",
              "</svg>\n",
              "  </button>\n",
              "\n",
              "<style>\n",
              "  .colab-df-quickchart {\n",
              "      --bg-color: #E8F0FE;\n",
              "      --fill-color: #1967D2;\n",
              "      --hover-bg-color: #E2EBFA;\n",
              "      --hover-fill-color: #174EA6;\n",
              "      --disabled-fill-color: #AAA;\n",
              "      --disabled-bg-color: #DDD;\n",
              "  }\n",
              "\n",
              "  [theme=dark] .colab-df-quickchart {\n",
              "      --bg-color: #3B4455;\n",
              "      --fill-color: #D2E3FC;\n",
              "      --hover-bg-color: #434B5C;\n",
              "      --hover-fill-color: #FFFFFF;\n",
              "      --disabled-bg-color: #3B4455;\n",
              "      --disabled-fill-color: #666;\n",
              "  }\n",
              "\n",
              "  .colab-df-quickchart {\n",
              "    background-color: var(--bg-color);\n",
              "    border: none;\n",
              "    border-radius: 50%;\n",
              "    cursor: pointer;\n",
              "    display: none;\n",
              "    fill: var(--fill-color);\n",
              "    height: 32px;\n",
              "    padding: 0;\n",
              "    width: 32px;\n",
              "  }\n",
              "\n",
              "  .colab-df-quickchart:hover {\n",
              "    background-color: var(--hover-bg-color);\n",
              "    box-shadow: 0 1px 2px rgba(60, 64, 67, 0.3), 0 1px 3px 1px rgba(60, 64, 67, 0.15);\n",
              "    fill: var(--button-hover-fill-color);\n",
              "  }\n",
              "\n",
              "  .colab-df-quickchart-complete:disabled,\n",
              "  .colab-df-quickchart-complete:disabled:hover {\n",
              "    background-color: var(--disabled-bg-color);\n",
              "    fill: var(--disabled-fill-color);\n",
              "    box-shadow: none;\n",
              "  }\n",
              "\n",
              "  .colab-df-spinner {\n",
              "    border: 2px solid var(--fill-color);\n",
              "    border-color: transparent;\n",
              "    border-bottom-color: var(--fill-color);\n",
              "    animation:\n",
              "      spin 1s steps(1) infinite;\n",
              "  }\n",
              "\n",
              "  @keyframes spin {\n",
              "    0% {\n",
              "      border-color: transparent;\n",
              "      border-bottom-color: var(--fill-color);\n",
              "      border-left-color: var(--fill-color);\n",
              "    }\n",
              "    20% {\n",
              "      border-color: transparent;\n",
              "      border-left-color: var(--fill-color);\n",
              "      border-top-color: var(--fill-color);\n",
              "    }\n",
              "    30% {\n",
              "      border-color: transparent;\n",
              "      border-left-color: var(--fill-color);\n",
              "      border-top-color: var(--fill-color);\n",
              "      border-right-color: var(--fill-color);\n",
              "    }\n",
              "    40% {\n",
              "      border-color: transparent;\n",
              "      border-right-color: var(--fill-color);\n",
              "      border-top-color: var(--fill-color);\n",
              "    }\n",
              "    60% {\n",
              "      border-color: transparent;\n",
              "      border-right-color: var(--fill-color);\n",
              "    }\n",
              "    80% {\n",
              "      border-color: transparent;\n",
              "      border-right-color: var(--fill-color);\n",
              "      border-bottom-color: var(--fill-color);\n",
              "    }\n",
              "    90% {\n",
              "      border-color: transparent;\n",
              "      border-bottom-color: var(--fill-color);\n",
              "    }\n",
              "  }\n",
              "</style>\n",
              "\n",
              "  <script>\n",
              "    async function quickchart(key) {\n",
              "      const quickchartButtonEl =\n",
              "        document.querySelector('#' + key + ' button');\n",
              "      quickchartButtonEl.disabled = true;  // To prevent multiple clicks.\n",
              "      quickchartButtonEl.classList.add('colab-df-spinner');\n",
              "      try {\n",
              "        const charts = await google.colab.kernel.invokeFunction(\n",
              "            'suggestCharts', [key], {});\n",
              "      } catch (error) {\n",
              "        console.error('Error during call to suggestCharts:', error);\n",
              "      }\n",
              "      quickchartButtonEl.classList.remove('colab-df-spinner');\n",
              "      quickchartButtonEl.classList.add('colab-df-quickchart-complete');\n",
              "    }\n",
              "    (() => {\n",
              "      let quickchartButtonEl =\n",
              "        document.querySelector('#df-10269951-ae9e-45fd-9a7c-848847883d24 button');\n",
              "      quickchartButtonEl.style.display =\n",
              "        google.colab.kernel.accessAllowed ? 'block' : 'none';\n",
              "    })();\n",
              "  </script>\n",
              "</div>\n",
              "    </div>\n",
              "  </div>\n"
            ],
            "application/vnd.google.colaboratory.intrinsic+json": {
              "type": "dataframe",
              "variable_name": "rev",
              "summary": "{\n  \"name\": \"rev\",\n  \"rows\": 30114,\n  \"fields\": [\n    {\n      \"column\": \"reviewText\",\n      \"properties\": {\n        \"dtype\": \"string\",\n        \"num_unique_values\": 30104,\n        \"samples\": [\n          \"cheryl kaye tardifs skeletons closet nothing like henry jam classic turn screwheres prediction take bank years book club fill pretentious literary scholars horror aficionados debate ambiguities underlie moral theme tardifs short stories nobody pen brilliantly research literary essay attempt unravel potential interpretations mystical end shroud fog impenetrable atmosphere thank goodness skeletons closet thoroughly entertain unabashedly canadian collection horror short straightforward inyourface goosebump raise skin crawl creep fest brilliantly conceive end crystal clear intent mean typically arrive shockingly distant unforeseen leave fieldtwo years ago review brief story entitle picture perfect first publish standalone amazon short askedwho among us couldnt identify young caroline even single reader brother sister hasnt time another fit intense sibling anger jealousy wish brother sister would simply go away forever cheryl kaye tardif combine unique little piece canadian history well know folk superstition photograph steal persons soul sibling rivalry openended bite horror turn mirror onto every reader cause shudder recognize petty jealousieshaving vow would read obviously talented canadian author thrill discover collection short stories include first savory samplingseparation anxiety tell tragic story grief lose child untimely accident remind us revenge dish sometimes best never serve deadly reunion chill little tale long lose teenage acquaintances start stories teenage angst cruely bully end paranormal visions question fate destiny reader twist cheryl kaye tardif one might say endear story ouija gift keep give several stories also thrill discover unlike many collections type single piece dead wood entire anthologyi cant wait try tardifs full length novels highly recommendedpaul weiss\",\n          \"review must say didnt know anything book dive well except fact pirate didnt even look blurb know would love book needle say wasnt disappoint love historical stories add pirate time travel bite romance equation simply perfectour protagonist sabrina years old lawyer century due storm shes transport back shes rescue troop pirate try survive find way back family sabrina dress like man meet several pirate really cruel barbaric good honorable hence title noble fun read sabrina react weird events life cope old ways century women freedom cant survive without protection meni like romance build gradually unhurriedly first think something go sabrina captain edward learn howel hazardous journey become pirate realize howel sabrina make good match howel make great love interest think author amaze job portray righteous care aspects personalitytheres bite mystery go really curious see sabrina would able change inevitable truly hope sequel get emotionally invest charactersoverall book full adventure piracy quick read love pirate need pirate fix book\",\n          \"holy bible hcsb digital text edition great kindle love learn read bible\"\n        ],\n        \"semantic_type\": \"\",\n        \"description\": \"\"\n      }\n    },\n    {\n      \"column\": \"overall\",\n      \"properties\": {\n        \"dtype\": \"number\",\n        \"std\": 0,\n        \"min\": 0,\n        \"max\": 1,\n        \"num_unique_values\": 2,\n        \"samples\": [\n          0,\n          1\n        ],\n        \"semantic_type\": \"\",\n        \"description\": \"\"\n      }\n    }\n  ]\n}"
            }
          },
          "metadata": {},
          "execution_count": 15
        }
      ],
      "source": [
        "#separating the ratings to different sentiment\n",
        "r1 = reviews[reviews.overall.isin([3,4,5])]\n",
        "r0 = reviews[reviews.overall.isin([1,2])]\n",
        "r1.loc[:, 'overall'] = 1\n",
        "r0.loc[:, 'overall'] = 0\n",
        "\n",
        "#concat the two new dataframes return one dataframe with preprocessed text and their corresponding labels\n",
        "rev = pd.concat([r1,r0])\n",
        "rev.head()"
      ]
    },
    {
      "cell_type": "markdown",
      "metadata": {
        "id": "bY3901FAZ6P4"
      },
      "source": []
    },
    {
      "cell_type": "markdown",
      "metadata": {
        "id": "o9DiJ1DZZ6P4"
      },
      "source": [
        "### Multinomial Naive Bayes\n",
        "\n",
        "A quick train using the Multinomial Naive Bayes algorithm can help serve as a baseline of what performance can be achieved. Before training the model, there are two things that needs to be done.\n",
        "\n",
        "1. Balanced the data. Since there is a disparity between ratings, this inherently makes the sentiment target labels imbalance as well and training a model with data that has serverly more of one class causes the model to classify all new samples to the majority class. There are a few solutions that can be applied but I chose to downsample the majority class to the minority class since there are an abundance of examples in this dataset.\n",
        "\n",
        "2. Build the vocabulary. This can be done by turning the words in each review to a vector where the entries are either a word frequency or a weight using the CountVectorizer or TfidfVectorizer respectively. Note that this method does not consider word ordering and is known as the bag of words method.\n",
        "\n",
        "As a result, it seems training on a Multinomial Naive Bayes provides an accuracy of 86% without tuning any parameters regardless of using CountVectorizer or TfidfVectorizer. Looking at the size of the training examples, there are more features than there are samples. The parameter min_df can be tuned to reduce number of features and will be done next."
      ]
    },
    {
      "cell_type": "code",
      "execution_count": 16,
      "metadata": {
        "id": "3C_tNP_GZ6P5",
        "outputId": "044d13eb-55a0-45d4-fa57-b663b2bf4884",
        "colab": {
          "base_uri": "https://localhost:8080/"
        }
      },
      "outputs": [
        {
          "output_type": "execute_result",
          "data": {
            "text/plain": [
              "overall\n",
              "1    27095\n",
              "0     3019\n",
              "Name: count, dtype: int64"
            ]
          },
          "metadata": {},
          "execution_count": 16
        }
      ],
      "source": [
        "rev.overall.value_counts()"
      ]
    },
    {
      "cell_type": "code",
      "execution_count": 17,
      "metadata": {
        "id": "KuL2wzRFZ6P5"
      },
      "outputs": [],
      "source": [
        "#balancing the training data by downsampling to the minority class given there is a good amount of data\n",
        "def make_xy(data, vec, n):\n",
        "    \"\"\"Takes in a dataframe with text and labels and returns a vocabulary of some sort\n",
        "        depending on the vectorizer used.\n",
        "\n",
        "        Arguments:\n",
        "\n",
        "        data - the input dataframe containing the text and the labels\n",
        "\n",
        "        vec - the chosen vectorizer to use\n",
        "\n",
        "        n - the number of samples per class\n",
        "        \"\"\"\n",
        "    temp = pd.DataFrame()\n",
        "    #sampling only n class reviews per class\n",
        "    for rating in range(2):\n",
        "        temp = pd.concat([temp, data[data.overall == rating].sample(n, random_state = 42)], ignore_index = True)\n",
        "    #vectorizing the vocabulary\n",
        "    X = vec.fit_transform(temp.reviewText)\n",
        "    y = temp.overall\n",
        "    return X, y"
      ]
    },
    {
      "cell_type": "code",
      "execution_count": 18,
      "metadata": {
        "id": "BOxo1anoZ6P5"
      },
      "outputs": [],
      "source": [
        "#using CountVectorizer\n",
        "count = CountVectorizer()\n",
        "X, y = make_xy(rev, count, 3000)"
      ]
    },
    {
      "cell_type": "code",
      "execution_count": 19,
      "metadata": {
        "id": "CVv7WDhpZ6P5"
      },
      "outputs": [],
      "source": [
        "#using TfidfVectorizer\n",
        "tfidf = TfidfVectorizer()\n",
        "Xt, yt = make_xy(rev, tfidf, 3000)"
      ]
    },
    {
      "cell_type": "code",
      "execution_count": 20,
      "metadata": {
        "id": "Pc6LBu1eZ6P5",
        "outputId": "cb3dd062-1dd8-4c71-8cc8-d7ce542d2682",
        "colab": {
          "base_uri": "https://localhost:8080/"
        }
      },
      "outputs": [
        {
          "output_type": "stream",
          "name": "stdout",
          "text": [
            "Training Accuracy w/ CountVectorizer: 0.92\n",
            "Testing Accuracy w/ CountVectorizer: 0.83\n"
          ]
        }
      ],
      "source": [
        "#testing the model with CountVectorizer\n",
        "X_train, X_test, y_train, y_test = train_test_split(X, y, test_size = .3, random_state = 42, stratify = y)\n",
        "\n",
        "naive = MultinomialNB()\n",
        "naive.fit(X_train, y_train)\n",
        "print('Training Accuracy w/ CountVectorizer: {:.2f}'.format(naive.score(X_train, y_train)))\n",
        "print('Testing Accuracy w/ CountVectorizer: {:.2f}'.format(naive.score(X_test, y_test)))"
      ]
    },
    {
      "cell_type": "code",
      "execution_count": 21,
      "metadata": {
        "id": "AW8N96izZ6P5",
        "outputId": "9ea42a60-1d59-4e61-ae5c-73508e714b61",
        "colab": {
          "base_uri": "https://localhost:8080/"
        }
      },
      "outputs": [
        {
          "output_type": "stream",
          "name": "stdout",
          "text": [
            "Training Accuracy w/ TfidfVectorizer: 0.93\n",
            "Testing Accuracy w/ TfidfVectorizer: 0.83\n"
          ]
        }
      ],
      "source": [
        "#testing the model with tfidf vectorizer\n",
        "Xt_train, Xt_test, yt_train, yt_test = train_test_split(Xt, yt, test_size = .3, random_state = 42, stratify = y)\n",
        "\n",
        "nb = MultinomialNB()\n",
        "nb.fit(Xt_train, yt_train)\n",
        "print('Training Accuracy w/ TfidfVectorizer: {:.2f}'.format(nb.score(Xt_train, yt_train)))\n",
        "print('Testing Accuracy w/ TfidfVectorizer: {:.2f}'.format(nb.score(Xt_test, yt_test)))"
      ]
    },
    {
      "cell_type": "code",
      "execution_count": 22,
      "metadata": {
        "id": "Wh_zVdyNZ6P5",
        "outputId": "25820332-02ff-45a6-89f9-89255c4b6734",
        "colab": {
          "base_uri": "https://localhost:8080/"
        }
      },
      "outputs": [
        {
          "output_type": "execute_result",
          "data": {
            "text/plain": [
              "(6000, 26321)"
            ]
          },
          "metadata": {},
          "execution_count": 22
        }
      ],
      "source": [
        "X.shape"
      ]
    },
    {
      "cell_type": "markdown",
      "metadata": {
        "id": "iTJGWk9MZ6P6"
      },
      "source": []
    },
    {
      "cell_type": "markdown",
      "metadata": {
        "id": "tvQoyhJRZ6P6"
      },
      "source": [
        "### Hyperparameter Tuning on Naive Bayes\n",
        "\n",
        "In previous section, training a Multinomial Naive Bayes without tuning any hyperparameters provided testing accuracy of 87% regardless of which Vectorizer was chosen. However, the vocabulary has about 80000 words from sampling 40000 observations. To reduce the number of word features, finding the right value for min_df is necessary. min_df is a parameter for CountVectorizer and TfidfVectorizer that requires a word to appear in a minimum number of documents in the entire corpus if an integer is pass for this parameter. If a float is passed, then the word must be within this proportion of the corpus. Another parameter that can be tuned is the alpha term when instantiating the Naive Bayes algorithm. This parameter helps prevent the likelihood probability from being 0 just because a word did not show up in the training examples. These parameters will be tuned to see if further improvement can be made using Naive Bayes algorithm.\n",
        "\n",
        "In the end, through tuning the parameters using K-Fold cross validation, the model still provided a testing accuracy of 87% but was able to provide this accuracy with approximately 3600 words compared to the previous 80000 using a min_df of .001. Although the best min_df was determine to be .00001, this value only improved training accuracy, as such it was tuned down to further reduce the number of word features while maintaining testing accuracy. Note that this model was trained using a TfidfVectorizer as will for the remainder of the notebook."
      ]
    },
    {
      "cell_type": "code",
      "execution_count": 23,
      "metadata": {
        "scrolled": true,
        "id": "upOZu-WjZ6P6"
      },
      "outputs": [],
      "source": [
        "#Tuning the min_df parameter for the vectorizer and the alpha in the multinomial Naive Bayes\n",
        "best_alpha = 0\n",
        "best_min_df = 0\n",
        "best_score = 0\n",
        "\n",
        "#param_grid\n",
        "alphas = [.1, 1, 5, 10, 50]\n",
        "min_dfs = [1e-5, 1e-4, 1e-3, 1e-2, 1e-1]\n",
        "\n",
        "#iterate throughout the param grid\n",
        "for alpha in alphas:\n",
        "    for m_df in min_dfs:\n",
        "        tfidf = TfidfVectorizer(min_df = m_df)\n",
        "        X, y = make_xy(rev, tfidf, 3000)\n",
        "        naive = MultinomialNB(alpha = alpha)\n",
        "        score = np.mean(cross_val_score(naive, X, y, scoring = 'accuracy', cv = 3))\n",
        "        if score > best_score:\n",
        "            best_score = score\n",
        "            best_alpha = alpha\n",
        "            best_min_df = m_df"
      ]
    },
    {
      "cell_type": "code",
      "execution_count": 24,
      "metadata": {
        "scrolled": true,
        "id": "KJo3zLABZ6P6",
        "outputId": "b381b53c-e6d3-4e28-8575-8c8e455284ff",
        "colab": {
          "base_uri": "https://localhost:8080/"
        }
      },
      "outputs": [
        {
          "output_type": "stream",
          "name": "stdout",
          "text": [
            "Best_score: 0.84\n",
            "Best_alpha: 5.00\n",
            "Best_min_df: 0.00100\n"
          ]
        }
      ],
      "source": [
        "print('Best_score: {:.2f}'.format(best_score))\n",
        "print('Best_alpha: {:.2f}'.format(best_alpha))\n",
        "print('Best_min_df: {:.5f}'.format(best_min_df))"
      ]
    },
    {
      "cell_type": "code",
      "execution_count": 25,
      "metadata": {
        "id": "ECP4-DB0Z6P6",
        "outputId": "a76f3897-7167-4a98-e303-1d61b30c82ca",
        "colab": {
          "base_uri": "https://localhost:8080/"
        }
      },
      "outputs": [
        {
          "output_type": "stream",
          "name": "stdout",
          "text": [
            "Training Accuracy w/ TfidfVectorizer: 0.88\n",
            "Testing Accuracy w/ TfidfVectorizer: 0.84\n",
            "\n",
            "\n",
            "[[790 110]\n",
            " [176 724]]\n",
            "\n",
            "\n",
            "              precision    recall  f1-score   support\n",
            "\n",
            "           0       0.82      0.88      0.85       900\n",
            "           1       0.87      0.80      0.84       900\n",
            "\n",
            "    accuracy                           0.84      1800\n",
            "   macro avg       0.84      0.84      0.84      1800\n",
            "weighted avg       0.84      0.84      0.84      1800\n",
            "\n"
          ]
        }
      ],
      "source": [
        "tfidf = TfidfVectorizer(min_df = .001)\n",
        "X, y = make_xy(rev,tfidf, 3000)\n",
        "X_train, X_test, y_train, y_test = train_test_split(X, y, test_size = .3, random_state = 42, stratify = y)\n",
        "naive = MultinomialNB(alpha = 5)\n",
        "naive.fit(X_train, y_train)\n",
        "naive_pred = naive.predict(X_test)\n",
        "naive_prob = naive.predict_proba(X_test)[:,1]\n",
        "\n",
        "\n",
        "print('Training Accuracy w/ TfidfVectorizer: {:.2f}'.format(naive.score(X_train, y_train)))\n",
        "print('Testing Accuracy w/ TfidfVectorizer: {:.2f}'.format(naive.score(X_test, y_test)))\n",
        "print('\\n')\n",
        "print(confusion_matrix(y_test, naive_pred))\n",
        "print('\\n')\n",
        "print(classification_report(y_test, naive_pred))"
      ]
    },
    {
      "cell_type": "code",
      "execution_count": 26,
      "metadata": {
        "scrolled": true,
        "id": "qr1RqItkZ6P6",
        "outputId": "91099076-9bdd-4689-8021-296c241a2c53",
        "colab": {
          "base_uri": "https://localhost:8080/"
        }
      },
      "outputs": [
        {
          "output_type": "execute_result",
          "data": {
            "text/plain": [
              "(4200, 4274)"
            ]
          },
          "metadata": {},
          "execution_count": 26
        }
      ],
      "source": [
        "X_train.shape"
      ]
    },
    {
      "cell_type": "markdown",
      "metadata": {
        "id": "clT4tr78Z6P6"
      },
      "source": []
    },
    {
      "cell_type": "markdown",
      "metadata": {
        "id": "AFhxqZ_7Z6P7"
      },
      "source": [
        "### Logistic Regression"
      ]
    },
    {
      "cell_type": "code",
      "execution_count": 27,
      "metadata": {
        "id": "tG-2RaJVZ6P7",
        "outputId": "f0fe3693-b90a-4de0-bc62-c2463c7264cf",
        "colab": {
          "base_uri": "https://localhost:8080/"
        }
      },
      "outputs": [
        {
          "output_type": "stream",
          "name": "stdout",
          "text": [
            "Training Accuracy w/ TfidfVectorizer: 0.89\n",
            "Testing Accuracy w/ TfidfVectorizer: 0.83\n",
            "\n",
            "\n",
            "[[743 157]\n",
            " [153 747]]\n",
            "\n",
            "\n",
            "              precision    recall  f1-score   support\n",
            "\n",
            "           0       0.83      0.83      0.83       900\n",
            "           1       0.83      0.83      0.83       900\n",
            "\n",
            "    accuracy                           0.83      1800\n",
            "   macro avg       0.83      0.83      0.83      1800\n",
            "weighted avg       0.83      0.83      0.83      1800\n",
            "\n"
          ]
        }
      ],
      "source": [
        "#creating a grid space\n",
        "c_space = np.logspace(-5,6, 15)\n",
        "penalty = ['l1', 'l2']\n",
        "param_grid = {'C':c_space, 'penalty': penalty}\n",
        "logreg = LogisticRegression()\n",
        "\n",
        "#exhaustive search for the best parameters\n",
        "logreg_cv = GridSearchCV(logreg, param_grid, cv = 5)\n",
        "logreg_cv.fit(X_train,y_train)\n",
        "\n",
        "#train model using the best parameters determine from GridSearchCV\n",
        "logreg = LogisticRegression(C = logreg_cv.best_params_['C'], penalty = logreg_cv.best_params_['penalty'])\n",
        "logreg.fit(X_train, y_train)\n",
        "logreg_pred = logreg.predict(X_test)\n",
        "logreg_prob = logreg.predict_proba(X_test)[:,1]\n",
        "\n",
        "print('Training Accuracy w/ TfidfVectorizer: {:.2f}'.format(logreg.score(X_train, y_train)))\n",
        "print('Testing Accuracy w/ TfidfVectorizer: {:.2f}'.format(logreg.score(X_test, y_test)))\n",
        "print('\\n')\n",
        "print(confusion_matrix(y_test, logreg_pred))\n",
        "print('\\n')\n",
        "print(classification_report(y_test, logreg_pred))"
      ]
    },
    {
      "cell_type": "markdown",
      "metadata": {
        "id": "ngwUHYIBZ6P7"
      },
      "source": [
        "### LinearSVC"
      ]
    },
    {
      "cell_type": "code",
      "execution_count": 28,
      "metadata": {
        "id": "jpNFmb4oZ6P7",
        "outputId": "9ab96599-3c18-4938-8f64-334492ac229c",
        "colab": {
          "base_uri": "https://localhost:8080/"
        }
      },
      "outputs": [
        {
          "output_type": "stream",
          "name": "stdout",
          "text": [
            "Training Accuracy w/ TfidfVectorizer: 0.98\n",
            "Testing Accuracy w/ TfidfVectorizer: 0.81\n",
            "\n",
            "\n",
            "[[728 172]\n",
            " [168 732]]\n",
            "\n",
            "\n",
            "              precision    recall  f1-score   support\n",
            "\n",
            "           0       0.81      0.81      0.81       900\n",
            "           1       0.81      0.81      0.81       900\n",
            "\n",
            "    accuracy                           0.81      1800\n",
            "   macro avg       0.81      0.81      0.81      1800\n",
            "weighted avg       0.81      0.81      0.81      1800\n",
            "\n"
          ]
        }
      ],
      "source": [
        "#creating array of regularization values\n",
        "c_space = np.logspace(-5,6, 8)\n",
        "best_score = []\n",
        "score = 0\n",
        "best_c = 0\n",
        "\n",
        "#exhaustive search for the best parameters\n",
        "for value in c_space:\n",
        "    svm = LinearSVC(C = value)\n",
        "    score = np.mean(cross_val_score(naive, X_train, y_train, scoring = 'accuracy', cv = 5))\n",
        "    if score > best_score:\n",
        "        best_score = score\n",
        "        best_c = value\n",
        "\n",
        "#train model using the best parameters determine from kfold\n",
        "try:\n",
        "    svm = LinearSVC(best_c)\n",
        "    svm.fit(X_train, y_train)\n",
        "    svm_pred = svm.predict(X_test)\n",
        "\n",
        "except:\n",
        "    svm = LinearSVC()\n",
        "    svm.fit(X_train, y_train)\n",
        "    svm_pred = svm.predict(X_test)\n",
        "\n",
        "print('Training Accuracy w/ TfidfVectorizer: {:.2f}'.format(svm.score(X_train, y_train)))\n",
        "print('Testing Accuracy w/ TfidfVectorizer: {:.2f}'.format(svm.score(X_test, y_test)))\n",
        "print('\\n')\n",
        "print(confusion_matrix(y_test, svm_pred))\n",
        "print('\\n')\n",
        "print(classification_report(y_test, svm_pred))"
      ]
    },
    {
      "cell_type": "markdown",
      "metadata": {
        "id": "55JucbkDZ6P7"
      },
      "source": [
        "### Random Forest Classifier"
      ]
    },
    {
      "cell_type": "code",
      "execution_count": 29,
      "metadata": {
        "id": "SYk0A5OeZ6P8",
        "outputId": "d7127dea-11e6-429f-b32f-201593902f43",
        "colab": {
          "base_uri": "https://localhost:8080/",
          "height": 117
        }
      },
      "outputs": [
        {
          "output_type": "execute_result",
          "data": {
            "text/plain": [
              "RandomizedSearchCV(cv=3, estimator=RandomForestClassifier(), n_jobs=-1,\n",
              "                   param_distributions={'max_depth': [5, 10, 20, 30, 40],\n",
              "                                        'max_features': ['sqrt', 'log2'],\n",
              "                                        'min_samples_leaf': [10, 100, 500, 1000,\n",
              "                                                             2000],\n",
              "                                        'min_samples_split': [200, 500, 1000,\n",
              "                                                              2000],\n",
              "                                        'n_estimators': [100, 500, 1000, 1500,\n",
              "                                                         2000]})"
            ],
            "text/html": [
              "<style>#sk-container-id-1 {color: black;background-color: white;}#sk-container-id-1 pre{padding: 0;}#sk-container-id-1 div.sk-toggleable {background-color: white;}#sk-container-id-1 label.sk-toggleable__label {cursor: pointer;display: block;width: 100%;margin-bottom: 0;padding: 0.3em;box-sizing: border-box;text-align: center;}#sk-container-id-1 label.sk-toggleable__label-arrow:before {content: \"▸\";float: left;margin-right: 0.25em;color: #696969;}#sk-container-id-1 label.sk-toggleable__label-arrow:hover:before {color: black;}#sk-container-id-1 div.sk-estimator:hover label.sk-toggleable__label-arrow:before {color: black;}#sk-container-id-1 div.sk-toggleable__content {max-height: 0;max-width: 0;overflow: hidden;text-align: left;background-color: #f0f8ff;}#sk-container-id-1 div.sk-toggleable__content pre {margin: 0.2em;color: black;border-radius: 0.25em;background-color: #f0f8ff;}#sk-container-id-1 input.sk-toggleable__control:checked~div.sk-toggleable__content {max-height: 200px;max-width: 100%;overflow: auto;}#sk-container-id-1 input.sk-toggleable__control:checked~label.sk-toggleable__label-arrow:before {content: \"▾\";}#sk-container-id-1 div.sk-estimator input.sk-toggleable__control:checked~label.sk-toggleable__label {background-color: #d4ebff;}#sk-container-id-1 div.sk-label input.sk-toggleable__control:checked~label.sk-toggleable__label {background-color: #d4ebff;}#sk-container-id-1 input.sk-hidden--visually {border: 0;clip: rect(1px 1px 1px 1px);clip: rect(1px, 1px, 1px, 1px);height: 1px;margin: -1px;overflow: hidden;padding: 0;position: absolute;width: 1px;}#sk-container-id-1 div.sk-estimator {font-family: monospace;background-color: #f0f8ff;border: 1px dotted black;border-radius: 0.25em;box-sizing: border-box;margin-bottom: 0.5em;}#sk-container-id-1 div.sk-estimator:hover {background-color: #d4ebff;}#sk-container-id-1 div.sk-parallel-item::after {content: \"\";width: 100%;border-bottom: 1px solid gray;flex-grow: 1;}#sk-container-id-1 div.sk-label:hover label.sk-toggleable__label {background-color: #d4ebff;}#sk-container-id-1 div.sk-serial::before {content: \"\";position: absolute;border-left: 1px solid gray;box-sizing: border-box;top: 0;bottom: 0;left: 50%;z-index: 0;}#sk-container-id-1 div.sk-serial {display: flex;flex-direction: column;align-items: center;background-color: white;padding-right: 0.2em;padding-left: 0.2em;position: relative;}#sk-container-id-1 div.sk-item {position: relative;z-index: 1;}#sk-container-id-1 div.sk-parallel {display: flex;align-items: stretch;justify-content: center;background-color: white;position: relative;}#sk-container-id-1 div.sk-item::before, #sk-container-id-1 div.sk-parallel-item::before {content: \"\";position: absolute;border-left: 1px solid gray;box-sizing: border-box;top: 0;bottom: 0;left: 50%;z-index: -1;}#sk-container-id-1 div.sk-parallel-item {display: flex;flex-direction: column;z-index: 1;position: relative;background-color: white;}#sk-container-id-1 div.sk-parallel-item:first-child::after {align-self: flex-end;width: 50%;}#sk-container-id-1 div.sk-parallel-item:last-child::after {align-self: flex-start;width: 50%;}#sk-container-id-1 div.sk-parallel-item:only-child::after {width: 0;}#sk-container-id-1 div.sk-dashed-wrapped {border: 1px dashed gray;margin: 0 0.4em 0.5em 0.4em;box-sizing: border-box;padding-bottom: 0.4em;background-color: white;}#sk-container-id-1 div.sk-label label {font-family: monospace;font-weight: bold;display: inline-block;line-height: 1.2em;}#sk-container-id-1 div.sk-label-container {text-align: center;}#sk-container-id-1 div.sk-container {/* jupyter's `normalize.less` sets `[hidden] { display: none; }` but bootstrap.min.css set `[hidden] { display: none !important; }` so we also need the `!important` here to be able to override the default hidden behavior on the sphinx rendered scikit-learn.org. See: https://github.com/scikit-learn/scikit-learn/issues/21755 */display: inline-block !important;position: relative;}#sk-container-id-1 div.sk-text-repr-fallback {display: none;}</style><div id=\"sk-container-id-1\" class=\"sk-top-container\"><div class=\"sk-text-repr-fallback\"><pre>RandomizedSearchCV(cv=3, estimator=RandomForestClassifier(), n_jobs=-1,\n",
              "                   param_distributions={&#x27;max_depth&#x27;: [5, 10, 20, 30, 40],\n",
              "                                        &#x27;max_features&#x27;: [&#x27;sqrt&#x27;, &#x27;log2&#x27;],\n",
              "                                        &#x27;min_samples_leaf&#x27;: [10, 100, 500, 1000,\n",
              "                                                             2000],\n",
              "                                        &#x27;min_samples_split&#x27;: [200, 500, 1000,\n",
              "                                                              2000],\n",
              "                                        &#x27;n_estimators&#x27;: [100, 500, 1000, 1500,\n",
              "                                                         2000]})</pre><b>In a Jupyter environment, please rerun this cell to show the HTML representation or trust the notebook. <br />On GitHub, the HTML representation is unable to render, please try loading this page with nbviewer.org.</b></div><div class=\"sk-container\" hidden><div class=\"sk-item sk-dashed-wrapped\"><div class=\"sk-label-container\"><div class=\"sk-label sk-toggleable\"><input class=\"sk-toggleable__control sk-hidden--visually\" id=\"sk-estimator-id-1\" type=\"checkbox\" ><label for=\"sk-estimator-id-1\" class=\"sk-toggleable__label sk-toggleable__label-arrow\">RandomizedSearchCV</label><div class=\"sk-toggleable__content\"><pre>RandomizedSearchCV(cv=3, estimator=RandomForestClassifier(), n_jobs=-1,\n",
              "                   param_distributions={&#x27;max_depth&#x27;: [5, 10, 20, 30, 40],\n",
              "                                        &#x27;max_features&#x27;: [&#x27;sqrt&#x27;, &#x27;log2&#x27;],\n",
              "                                        &#x27;min_samples_leaf&#x27;: [10, 100, 500, 1000,\n",
              "                                                             2000],\n",
              "                                        &#x27;min_samples_split&#x27;: [200, 500, 1000,\n",
              "                                                              2000],\n",
              "                                        &#x27;n_estimators&#x27;: [100, 500, 1000, 1500,\n",
              "                                                         2000]})</pre></div></div></div><div class=\"sk-parallel\"><div class=\"sk-parallel-item\"><div class=\"sk-item\"><div class=\"sk-label-container\"><div class=\"sk-label sk-toggleable\"><input class=\"sk-toggleable__control sk-hidden--visually\" id=\"sk-estimator-id-2\" type=\"checkbox\" ><label for=\"sk-estimator-id-2\" class=\"sk-toggleable__label sk-toggleable__label-arrow\">estimator: RandomForestClassifier</label><div class=\"sk-toggleable__content\"><pre>RandomForestClassifier()</pre></div></div></div><div class=\"sk-serial\"><div class=\"sk-item\"><div class=\"sk-estimator sk-toggleable\"><input class=\"sk-toggleable__control sk-hidden--visually\" id=\"sk-estimator-id-3\" type=\"checkbox\" ><label for=\"sk-estimator-id-3\" class=\"sk-toggleable__label sk-toggleable__label-arrow\">RandomForestClassifier</label><div class=\"sk-toggleable__content\"><pre>RandomForestClassifier()</pre></div></div></div></div></div></div></div></div></div></div>"
            ]
          },
          "metadata": {},
          "execution_count": 29
        }
      ],
      "source": [
        "#Random Forest Classifier\n",
        "rf = RandomForestClassifier()\n",
        "#param_grid\n",
        "rf_params = {'n_estimators':[100, 500, 1000, 1500, 2000],\n",
        "             'max_depth': [5, 10, 20, 30 ,40],\n",
        "             'max_features': ['sqrt', 'log2'],\n",
        "            'min_samples_leaf': [10, 100, 500, 1000, 2000],\n",
        "            'min_samples_split': [200, 500, 1000, 2000]}\n",
        "\n",
        "#fitting the randomize search\n",
        "rf_cv = RandomizedSearchCV(rf, rf_params, cv = 3, n_jobs = -1)\n",
        "rf_cv.fit(X_train,y_train)"
      ]
    },
    {
      "cell_type": "code",
      "execution_count": 30,
      "metadata": {
        "scrolled": true,
        "id": "T9JHywdVZ6P8",
        "outputId": "a8cd60bb-c9aa-4a29-8fed-77977ef08a16",
        "colab": {
          "base_uri": "https://localhost:8080/"
        }
      },
      "outputs": [
        {
          "output_type": "stream",
          "name": "stdout",
          "text": [
            "{'n_estimators': 2000, 'min_samples_split': 1000, 'min_samples_leaf': 10, 'max_features': 'log2', 'max_depth': 20}\n",
            "Training Accuracy w/ TfidfVectorizer: 0.88\n",
            "Testing Accuracy w/ TfidfVectorizer: 0.81\n",
            "\n",
            "\n",
            "[[712 188]\n",
            " [156 744]]\n",
            "\n",
            "\n",
            "              precision    recall  f1-score   support\n",
            "\n",
            "           0       0.82      0.79      0.81       900\n",
            "           1       0.80      0.83      0.81       900\n",
            "\n",
            "    accuracy                           0.81      1800\n",
            "   macro avg       0.81      0.81      0.81      1800\n",
            "weighted avg       0.81      0.81      0.81      1800\n",
            "\n"
          ]
        }
      ],
      "source": [
        "best_model = rf_cv.best_estimator_\n",
        "best_model.fit(X_train, y_train)\n",
        "rf_pred = best_model.predict(X_test)\n",
        "rf_prob = best_model.predict_proba(X_test)[:,1]\n",
        "print(rf_cv.best_params_)\n",
        "print('Training Accuracy w/ TfidfVectorizer: {:.2f}'.format(best_model.score(X_train, y_train)))\n",
        "print('Testing Accuracy w/ TfidfVectorizer: {:.2f}'.format(best_model.score(X_test, y_test)))\n",
        "print('\\n')\n",
        "print(confusion_matrix(y_test, rf_pred))\n",
        "print('\\n')\n",
        "print(classification_report(y_test, rf_pred))"
      ]
    },
    {
      "cell_type": "code",
      "execution_count": 31,
      "metadata": {
        "id": "xywj7eFuZ6P8",
        "outputId": "f4e932a9-b1fd-41e9-c0dc-1da8ba01e4be",
        "colab": {
          "base_uri": "https://localhost:8080/",
          "height": 472
        }
      },
      "outputs": [
        {
          "output_type": "display_data",
          "data": {
            "text/plain": [
              "<Figure size 640x480 with 1 Axes>"
            ],
            "image/png": "[encoded data removed]"
          },
          "metadata": {}
        }
      ],
      "source": [
        "#Plotting the roc curves for each model\n",
        "sns.set_style('white')\n",
        "fig, ax = plt.subplots()\n",
        "ax.plot([0,1], [0,1], linestyle = '--', color = 'darkorange')\n",
        "\n",
        "probs = [naive_prob, logreg_prob, rf_prob, svm_pred]\n",
        "labels = ['Naive Bayes', 'Logistic Regression', 'Random Forest', 'SVC']\n",
        "for idx in range(len(probs)):\n",
        "    fpr, tpr, thresholds = roc_curve(y_test, probs[idx])\n",
        "    ax.plot(fpr, tpr, label = (labels[idx] + ' AUC score = %.2f' % roc_auc_score(y_test, probs[idx])))\n",
        "\n",
        "plt.xlabel('False Positive Rate')\n",
        "plt.ylabel('True Positive Rate')\n",
        "plt.title('ROC Curves')\n",
        "ax.legend(loc = 'lower right')\n",
        "ax.margins(x = 0.01, y =0.02)\n",
        "\n",
        "\n",
        "plt.show()"
      ]
    }
  ],
  "metadata": {
    "kernelspec": {
      "display_name": "Python 3",
      "language": "python",
      "name": "python3"
    },
    "language_info": {
      "codemirror_mode": {
        "name": "ipython",
        "version": 3
      },
      "file_extension": ".py",
      "mimetype": "text/x-python",
      "name": "python",
      "nbconvert_exporter": "python",
      "pygments_lexer": "ipython3",
      "version": "3.6.1"
    },
    "colab": {
      "provenance": []
    }
  },
  "nbformat": 4,
  "nbformat_minor": 0
}